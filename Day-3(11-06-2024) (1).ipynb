{
 "cells": [
  {
   "cell_type": "markdown",
   "id": "aa582fec-8bc0-4837-a772-c45ca2498a32",
   "metadata": {},
   "source": [
    "### python basics\n",
    "\n",
    "* How to check python version\n",
    "* Comments in python\n",
    "* Datatypes\n",
    "* Variable\n",
    "* Operators"
   ]
  },
  {
   "cell_type": "code",
   "execution_count": 8,
   "id": "f188e9b7-4bbd-48b7-8033-f176ca71b6a7",
   "metadata": {},
   "outputs": [
    {
     "data": {
      "text/plain": [
       "'3.11.7 | packaged by Anaconda, Inc. | (main, Dec 15 2023, 18:05:47) [MSC v.1916 64 bit (AMD64)]'"
      ]
     },
     "execution_count": 8,
     "metadata": {},
     "output_type": "execute_result"
    }
   ],
   "source": [
    "# How to check your python version\n",
    "\n",
    "import sys\n",
    "sys.version"
   ]
  },
  {
   "cell_type": "code",
   "execution_count": 9,
   "id": "ae83d98a-7b12-4398-9582-f2ddfef69b0e",
   "metadata": {},
   "outputs": [
    {
     "data": {
      "text/plain": [
       "' Multiline comments '"
      ]
     },
     "execution_count": 9,
     "metadata": {},
     "output_type": "execute_result"
    }
   ],
   "source": [
    "# comments in python \n",
    "\n",
    "\n",
    "# Single line comment\n",
    "\"\"\" Multiline comments \"\"\"\n"
   ]
  },
  {
   "cell_type": "markdown",
   "id": "ac531cf6-92b9-4471-a9b3-f1610e62446c",
   "metadata": {},
   "source": [
    "### Data Types\n",
    "\n",
    "* int\n",
    "* float\n",
    "* string\n",
    "* boolean\n",
    "* complex"
   ]
  },
  {
   "cell_type": "code",
   "execution_count": 10,
   "id": "5bdac6bc-7b37-4ea6-b608-74c7880c63af",
   "metadata": {},
   "outputs": [
    {
     "name": "stdout",
     "output_type": "stream",
     "text": [
      "241630\n",
      "<class 'int'>\n",
      "97.89 <class 'float'>\n",
      "p <class 'str'>\n",
      "Data analysis <class 'str'>\n",
      "False <class 'bool'>\n",
      "(46+190j) <class 'complex'>\n"
     ]
    }
   ],
   "source": [
    "a=241630 # int\n",
    "print(a)\n",
    "print(type(a)) # to know the type of a variable\n",
    "b=97.890 #float\n",
    "print(b,type(b))\n",
    "c=\"p\" #char\n",
    "print(c,type(c))\n",
    "d=\"Data analysis\" #string\n",
    "print(d,type(d)) \n",
    "e=False #boolean\n",
    "print(e,type(e))\n",
    "f=46+190j #complex\n",
    "print(f,type(f))"
   ]
  },
  {
   "cell_type": "code",
   "execution_count": 11,
   "id": "1b513c3e-42be-430b-81c7-f793180bbf1b",
   "metadata": {},
   "outputs": [
    {
     "name": "stdout",
     "output_type": "stream",
     "text": [
      "<class 'str'>\n",
      "1630 <class 'int'>\n"
     ]
    }
   ],
   "source": [
    "#type casting ( coverting one datatype to another)\n",
    "\n",
    "a=\"1630\"\n",
    "print(type(a))\n",
    "b=int(a)\n",
    "print(b,type(b))"
   ]
  },
  {
   "cell_type": "markdown",
   "id": "19b3966d-0ddb-4156-9d5c-a29792895416",
   "metadata": {},
   "source": [
    "# operators\n",
    "\n",
    "* Arithmetic operators(+,-,/,//,*,%)"
   ]
  },
  {
   "cell_type": "code",
   "execution_count": 12,
   "id": "7dee61b7-ddb0-4807-86a7-bdae5c95d866",
   "metadata": {},
   "outputs": [
    {
     "name": "stdout",
     "output_type": "stream",
     "text": [
      "0\n",
      "810\n",
      "99\n",
      "0.1\n",
      "-81\n",
      "9\n",
      "76177348045866392339289727720615561750424801402395196724001565744957137343033038019601\n"
     ]
    }
   ],
   "source": [
    "a=9\n",
    "b=90\n",
    "print(a//b) #integer division(removes the decimal points)\n",
    "print(a*b)\n",
    "print(a+b)\n",
    "print(a/b)\n",
    "print(a-b)\n",
    "print(a%b)\n",
    "print(a**b)"
   ]
  },
  {
   "cell_type": "code",
   "execution_count": 13,
   "id": "5beeef35-5b3a-44e6-9c34-944375511eaf",
   "metadata": {},
   "outputs": [
    {
     "name": "stdout",
     "output_type": "stream",
     "text": [
      "70\n",
      "88\n",
      "84\n",
      "1932\n"
     ]
    }
   ],
   "source": [
    "## Assignment operators(=,+=,-=,/=,%=,*=,**=,//=)\n",
    "\n",
    "a=70\n",
    "print(a)\n",
    "a+=18\n",
    "print(a)\n",
    "a-=4\n",
    "print(a)\n",
    "a*=23\n",
    "print(a)"
   ]
  },
  {
   "cell_type": "code",
   "execution_count": 14,
   "id": "183a0275-7504-408e-8cc6-150b21b6e6f1",
   "metadata": {},
   "outputs": [
    {
     "name": "stdout",
     "output_type": "stream",
     "text": [
      "True\n",
      "False\n",
      "True\n",
      "True\n",
      "False\n"
     ]
    }
   ],
   "source": [
    "## Comparision operators(>,<,==,>=,<=,!=)\n",
    "\n",
    "a=94\n",
    "b=45\n",
    "print(a>b)\n",
    "print(a<b)\n",
    "print(a!=b)\n",
    "print(a>=b)\n",
    "print(a<=b)"
   ]
  },
  {
   "cell_type": "code",
   "execution_count": null,
   "id": "df6c17a5-08a7-4101-afaa-1b22a0abd5de",
   "metadata": {},
   "outputs": [],
   "source": []
  }
 ],
 "metadata": {
  "kernelspec": {
   "display_name": "Python 3 (ipykernel)",
   "language": "python",
   "name": "python3"
  },
  "language_info": {
   "codemirror_mode": {
    "name": "ipython",
    "version": 3
   },
   "file_extension": ".py",
   "mimetype": "text/x-python",
   "name": "python",
   "nbconvert_exporter": "python",
   "pygments_lexer": "ipython3",
   "version": "3.11.7"
  }
 },
 "nbformat": 4,
 "nbformat_minor": 5
}
