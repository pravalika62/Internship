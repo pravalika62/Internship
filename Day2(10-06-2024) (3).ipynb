{
 "cells": [
  {
   "cell_type": "markdown",
   "id": "d669b7c3-a531-476b-a732-a0a9a7c0d6bc",
   "metadata": {},
   "source": [
    "# This is large heading\n",
    "## This is second large heading\n",
    "### This is small heading"
   ]
  },
  {
   "cell_type": "markdown",
   "id": "364fea69-8bea-4018-834b-831f361cabb3",
   "metadata": {},
   "source": [
    "### styling text\n",
    "* **This is bold text**\n",
    "* *This is italic*\n",
    "* ***This is bold and italic***\n",
    "* ~~This is Strike through~~"
   ]
  },
  {
   "cell_type": "markdown",
   "id": "cd581c91-ec47-4e93-971d-8c7af71ac42b",
   "metadata": {},
   "source": [
    "### Unordered list:\n",
    "* Cities\n",
    "* Vijaywada\n",
    "* Guntur\n",
    "* Delhi\n",
    "* Mumbai\n",
    "\n",
    "### Ordered list:\n",
    "* Branches\n",
    "1. IT\n",
    "2. CSE\n",
    "3. AIML\n",
    "4. ECE\n",
    "5. MECH\n",
    "6. CIVIL"
   ]
  },
  {
   "cell_type": "markdown",
   "id": "09a61fd4-ab01-46b4-85b8-2c3202354363",
   "metadata": {},
   "source": [
    "### Inserting a link\n",
    "\n",
    "* [Google.com](https://www.google.com)\n",
    "* [Gmail.com](https://www.gmail.com)\n",
    "* [Facebook.com](https://www.facebook.com)"
   ]
  },
  {
   "cell_type": "markdown",
   "id": "23a5f448-e8e0-420d-b22c-c801fde3acb0",
   "metadata": {},
   "source": [
    "### Creating link to an image\n",
    "\n",
    "[python pic](Image1.jpg)\n"
   ]
  },
  {
   "cell_type": "markdown",
   "id": "80781284-7f87-47b3-99f4-46c6b1d0739f",
   "metadata": {},
   "source": [
    "### Adding images to markdown\n",
    "### <img src=\"Image1.jpg\" style=\"height:100px; width:100px;\">"
   ]
  },
  {
   "cell_type": "code",
   "execution_count": null,
   "id": "4c89a90d-ce12-4226-aa7a-a8267e0c1af8",
   "metadata": {},
   "outputs": [],
   "source": []
  }
 ],
 "metadata": {
  "kernelspec": {
   "display_name": "Python 3 (ipykernel)",
   "language": "python",
   "name": "python3"
  },
  "language_info": {
   "codemirror_mode": {
    "name": "ipython",
    "version": 3
   },
   "file_extension": ".py",
   "mimetype": "text/x-python",
   "name": "python",
   "nbconvert_exporter": "python",
   "pygments_lexer": "ipython3",
   "version": "3.11.7"
  }
 },
 "nbformat": 4,
 "nbformat_minor": 5
}
