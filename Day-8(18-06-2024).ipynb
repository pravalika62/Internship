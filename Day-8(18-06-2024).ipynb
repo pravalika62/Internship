{
 "cells": [
  {
   "cell_type": "code",
   "execution_count": 7,
   "id": "812de4e9-83e5-4939-8687-002db408a209",
   "metadata": {},
   "outputs": [
    {
     "name": "stdout",
     "output_type": "stream",
     "text": [
      "Ana\n"
     ]
    }
   ],
   "source": [
    "# slicing [start:end:step]\n",
    "s=\"Anaconda\"\n",
    "print(s[0:3])"
   ]
  },
  {
   "cell_type": "code",
   "execution_count": 9,
   "id": "38165038-bf58-48a7-8812-c321c87376f8",
   "metadata": {},
   "outputs": [
    {
     "name": "stdout",
     "output_type": "stream",
     "text": [
      "conda\n"
     ]
    }
   ],
   "source": [
    "print(s[3:])"
   ]
  },
  {
   "cell_type": "code",
   "execution_count": 12,
   "id": "054bc496-5dc8-41b6-b6eb-e2e5da664b65",
   "metadata": {},
   "outputs": [
    {
     "name": "stdout",
     "output_type": "stream",
     "text": [
      "Aaod\n",
      "ncna\n"
     ]
    }
   ],
   "source": [
    "# print alternate characters of a string\n",
    "print(s[0::2])\n",
    "print(s[1::2])"
   ]
  },
  {
   "cell_type": "code",
   "execution_count": null,
   "id": "83375535-1877-4f0f-8d1c-cde140bf71d0",
   "metadata": {},
   "outputs": [],
   "source": [
    "# reverse of a string\n",
    "s=\"welcome\"\n",
    "s[::-1]"
   ]
  },
  {
   "cell_type": "code",
   "execution_count": 14,
   "id": "f467546b-d596-4e07-9182-28b6800f01fb",
   "metadata": {},
   "outputs": [
    {
     "name": "stdout",
     "output_type": "stream",
     "text": [
      "['__add__', '__class__', '__contains__', '__delattr__', '__dir__', '__doc__', '__eq__', '__format__', '__ge__', '__getattribute__', '__getitem__', '__getnewargs__', '__getstate__', '__gt__', '__hash__', '__init__', '__init_subclass__', '__iter__', '__le__', '__len__', '__lt__', '__mod__', '__mul__', '__ne__', '__new__', '__reduce__', '__reduce_ex__', '__repr__', '__rmod__', '__rmul__', '__setattr__', '__sizeof__', '__str__', '__subclasshook__', 'capitalize', 'casefold', 'center', 'count', 'encode', 'endswith', 'expandtabs', 'find', 'format', 'format_map', 'index', 'isalnum', 'isalpha', 'isascii', 'isdecimal', 'isdigit', 'isidentifier', 'islower', 'isnumeric', 'isprintable', 'isspace', 'istitle', 'isupper', 'join', 'ljust', 'lower', 'lstrip', 'maketrans', 'partition', 'removeprefix', 'removesuffix', 'replace', 'rfind', 'rindex', 'rjust', 'rpartition', 'rsplit', 'rstrip', 'split', 'splitlines', 'startswith', 'strip', 'swapcase', 'title', 'translate', 'upper', 'zfill']"
     ]
    }
   ],
   "source": [
    "print(dir(s),end=\"\")"
   ]
  },
  {
   "cell_type": "code",
   "execution_count": 18,
   "id": "18f39c19-3849-49c4-b92f-21d7a761ffca",
   "metadata": {},
   "outputs": [
    {
     "data": {
      "text/plain": [
       "'python programming'"
      ]
     },
     "execution_count": 18,
     "metadata": {},
     "output_type": "execute_result"
    }
   ],
   "source": [
    "s=\"PYTHON programming\"\n",
    "s.lower()"
   ]
  },
  {
   "cell_type": "code",
   "execution_count": 19,
   "id": "9d91170b-2ed6-4fff-8d55-ab831da9f7e8",
   "metadata": {},
   "outputs": [
    {
     "data": {
      "text/plain": [
       "'PYTHON PROGRAMMING'"
      ]
     },
     "execution_count": 19,
     "metadata": {},
     "output_type": "execute_result"
    }
   ],
   "source": [
    "s=\"PYTHON programming\"\n",
    "s.upper()"
   ]
  },
  {
   "cell_type": "code",
   "execution_count": 20,
   "id": "757aa7dd-f535-4cc0-95de-319bf2b1782b",
   "metadata": {},
   "outputs": [
    {
     "data": {
      "text/plain": [
       "'Python programming'"
      ]
     },
     "execution_count": 20,
     "metadata": {},
     "output_type": "execute_result"
    }
   ],
   "source": [
    "s=\"PYTHON programming\"\n",
    "s.capitalize()"
   ]
  },
  {
   "cell_type": "code",
   "execution_count": 22,
   "id": "11521a4e-6460-4b11-a7d7-e5be0723bc88",
   "metadata": {},
   "outputs": [
    {
     "data": {
      "text/plain": [
       "'Python Programming'"
      ]
     },
     "execution_count": 22,
     "metadata": {},
     "output_type": "execute_result"
    }
   ],
   "source": [
    "s=\"PYTHON programming\"\n",
    "s.title()"
   ]
  },
  {
   "cell_type": "code",
   "execution_count": 23,
   "id": "e9670797-c55e-4915-a1a2-33fcbe482f4f",
   "metadata": {},
   "outputs": [
    {
     "data": {
      "text/plain": [
       "['i', 'am', 'learning', 'python']"
      ]
     },
     "execution_count": 23,
     "metadata": {},
     "output_type": "execute_result"
    }
   ],
   "source": [
    "s=\" i am learning python\"\n",
    "s.split()"
   ]
  },
  {
   "cell_type": "code",
   "execution_count": 24,
   "id": "0940dc3b-71f0-45d6-b090-bdc529fd4d6b",
   "metadata": {},
   "outputs": [
    {
     "data": {
      "text/plain": [
       "[' i am ', 'earning python']"
      ]
     },
     "execution_count": 24,
     "metadata": {},
     "output_type": "execute_result"
    }
   ],
   "source": [
    "s.split('l')"
   ]
  },
  {
   "cell_type": "code",
   "execution_count": 25,
   "id": "44779e32-b455-4343-9fd3-aa405ea438c0",
   "metadata": {},
   "outputs": [
    {
     "data": {
      "text/plain": [
       "['hello', 'world']"
      ]
     },
     "execution_count": 25,
     "metadata": {},
     "output_type": "execute_result"
    }
   ],
   "source": [
    "p=\"hello@world\"\n",
    "p.split('@')"
   ]
  },
  {
   "cell_type": "code",
   "execution_count": 26,
   "id": "a104f4eb-9573-47c1-842d-509096bb4e9d",
   "metadata": {},
   "outputs": [
    {
     "data": {
      "text/plain": [
       "'python programming'"
      ]
     },
     "execution_count": 26,
     "metadata": {},
     "output_type": "execute_result"
    }
   ],
   "source": [
    "s=\"python programming\"\n",
    "s.strip()"
   ]
  },
  {
   "cell_type": "code",
   "execution_count": 27,
   "id": "e6b611a3-adaa-4f3f-af0b-679db1bcd84b",
   "metadata": {},
   "outputs": [
    {
     "data": {
      "text/plain": [
       "'python programming'"
      ]
     },
     "execution_count": 27,
     "metadata": {},
     "output_type": "execute_result"
    }
   ],
   "source": [
    "s=\"python programming\"\n",
    "s.lstrip()"
   ]
  },
  {
   "cell_type": "code",
   "execution_count": 28,
   "id": "fe24094a-8a35-4654-a1d8-d28850ae7456",
   "metadata": {},
   "outputs": [
    {
     "data": {
      "text/plain": [
       "'python programming'"
      ]
     },
     "execution_count": 28,
     "metadata": {},
     "output_type": "execute_result"
    }
   ],
   "source": [
    "s=\"python programming\"\n",
    "s.rstrip()"
   ]
  },
  {
   "cell_type": "code",
   "execution_count": 29,
   "id": "7978e7ab-81bf-4eb1-a993-368b8df8e29a",
   "metadata": {},
   "outputs": [
    {
     "data": {
      "text/plain": [
       "2"
      ]
     },
     "execution_count": 29,
     "metadata": {},
     "output_type": "execute_result"
    }
   ],
   "source": [
    "s=\"java\"\n",
    "s.count('a')"
   ]
  },
  {
   "cell_type": "code",
   "execution_count": 30,
   "id": "478ba9aa-c541-470f-a33b-bbb0407644ad",
   "metadata": {},
   "outputs": [
    {
     "data": {
      "text/plain": [
       "2"
      ]
     },
     "execution_count": 30,
     "metadata": {},
     "output_type": "execute_result"
    }
   ],
   "source": [
    "s=\"hello hai hello\"\n",
    "s.count('hello')"
   ]
  },
  {
   "cell_type": "code",
   "execution_count": 31,
   "id": "fa19a2ac-69c4-457e-9d95-68ee8509aede",
   "metadata": {},
   "outputs": [
    {
     "data": {
      "text/plain": [
       "'hello$world'"
      ]
     },
     "execution_count": 31,
     "metadata": {},
     "output_type": "execute_result"
    }
   ],
   "source": [
    "s=\"hello@world\"\n",
    "s.replace('@','$')"
   ]
  },
  {
   "cell_type": "code",
   "execution_count": 32,
   "id": "2ed75863-ef42-42ca-980a-36a01178fb13",
   "metadata": {},
   "outputs": [
    {
     "data": {
      "text/plain": [
       "'hellwoo@wwoorld'"
      ]
     },
     "execution_count": 32,
     "metadata": {},
     "output_type": "execute_result"
    }
   ],
   "source": [
    "s.replace('o','woo')"
   ]
  },
  {
   "cell_type": "code",
   "execution_count": 36,
   "id": "cc1563c1-8ef0-4b0f-88b1-a5016cb81f96",
   "metadata": {},
   "outputs": [
    {
     "data": {
      "text/plain": [
       "'pythonpythonpythonpythonpython'"
      ]
     },
     "execution_count": 36,
     "metadata": {},
     "output_type": "execute_result"
    }
   ],
   "source": [
    "s1=\"python\"\n",
    "s2=\" workshop\"\n",
    "s1+s2 #concat\n",
    "s1*5  #repetiton\n"
   ]
  },
  {
   "cell_type": "code",
   "execution_count": 38,
   "id": "93fc9c2c-4e5a-49d1-81d2-311c6c205b71",
   "metadata": {},
   "outputs": [
    {
     "data": {
      "text/plain": [
       "True"
      ]
     },
     "execution_count": 38,
     "metadata": {},
     "output_type": "execute_result"
    }
   ],
   "source": [
    "'a' in 'program'"
   ]
  },
  {
   "cell_type": "code",
   "execution_count": 39,
   "id": "8c0a1859-f2a9-4623-bf36-cc2638908258",
   "metadata": {},
   "outputs": [
    {
     "data": {
      "text/plain": [
       "False"
      ]
     },
     "execution_count": 39,
     "metadata": {},
     "output_type": "execute_result"
    }
   ],
   "source": [
    "'a' not in 'program'"
   ]
  },
  {
   "cell_type": "code",
   "execution_count": 41,
   "id": "408e8a2c-7b99-43e3-8249-e020629283af",
   "metadata": {},
   "outputs": [
    {
     "data": {
      "text/plain": [
       "'HELLO everyone'"
      ]
     },
     "execution_count": 41,
     "metadata": {},
     "output_type": "execute_result"
    }
   ],
   "source": [
    "s=\"hello EVERYONE\"\n",
    "s.swapcase()"
   ]
  },
  {
   "cell_type": "code",
   "execution_count": 42,
   "id": "ce80cbed-2afe-43e9-a6de-c2a3eec34dd3",
   "metadata": {},
   "outputs": [
    {
     "data": {
      "text/plain": [
       "False"
      ]
     },
     "execution_count": 42,
     "metadata": {},
     "output_type": "execute_result"
    }
   ],
   "source": [
    "s=\"hello EVERYONE\"\n",
    "s.isalpha()"
   ]
  },
  {
   "cell_type": "code",
   "execution_count": 2,
   "id": "6385295c-be0b-4074-8efc-b1c99c702591",
   "metadata": {},
   "outputs": [
    {
     "data": {
      "text/plain": [
       "False"
      ]
     },
     "execution_count": 2,
     "metadata": {},
     "output_type": "execute_result"
    }
   ],
   "source": [
    "s=\"super30\"\n",
    "s.isalpha()"
   ]
  },
  {
   "cell_type": "code",
   "execution_count": 3,
   "id": "a5c85baa-b991-4211-b433-87d80b6eff41",
   "metadata": {},
   "outputs": [
    {
     "data": {
      "text/plain": [
       "True"
      ]
     },
     "execution_count": 3,
     "metadata": {},
     "output_type": "execute_result"
    }
   ],
   "source": [
    "s=\"241630\"\n",
    "s.isdigit()"
   ]
  },
  {
   "cell_type": "code",
   "execution_count": 4,
   "id": "77b5b578-5334-444a-bd3c-92b72d2cdf1a",
   "metadata": {},
   "outputs": [
    {
     "data": {
      "text/plain": [
       "False"
      ]
     },
     "execution_count": 4,
     "metadata": {},
     "output_type": "execute_result"
    }
   ],
   "source": [
    "s=\"prav2333\"\n",
    "s.isdigit()"
   ]
  },
  {
   "cell_type": "code",
   "execution_count": 6,
   "id": "178d4959-4d06-4653-a509-813dd6ceff24",
   "metadata": {},
   "outputs": [
    {
     "data": {
      "text/plain": [
       "True"
      ]
     },
     "execution_count": 6,
     "metadata": {},
     "output_type": "execute_result"
    }
   ],
   "source": [
    "s=\"focus50\"\n",
    "s.isalnum() # retuns true if the string is alphanumeric otherwise returns false"
   ]
  },
  {
   "cell_type": "code",
   "execution_count": 7,
   "id": "32b35977-669f-4200-9dce-c9576a463ad6",
   "metadata": {},
   "outputs": [
    {
     "data": {
      "text/plain": [
       "False"
      ]
     },
     "execution_count": 7,
     "metadata": {},
     "output_type": "execute_result"
    }
   ],
   "source": [
    "s=\"focus878@###\"\n",
    "s.isalnum()"
   ]
  },
  {
   "cell_type": "code",
   "execution_count": null,
   "id": "53be0b8a-eef3-403d-bf11-cfce5e862fa9",
   "metadata": {},
   "outputs": [],
   "source": []
  }
 ],
 "metadata": {
  "kernelspec": {
   "display_name": "Python 3 (ipykernel)",
   "language": "python",
   "name": "python3"
  },
  "language_info": {
   "codemirror_mode": {
    "name": "ipython",
    "version": 3
   },
   "file_extension": ".py",
   "mimetype": "text/x-python",
   "name": "python",
   "nbconvert_exporter": "python",
   "pygments_lexer": "ipython3",
   "version": "3.11.7"
  }
 },
 "nbformat": 4,
 "nbformat_minor": 5
}
